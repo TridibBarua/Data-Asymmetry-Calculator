{
 "cells": [
  {
   "cell_type": "code",
   "execution_count": null,
   "metadata": {},
   "outputs": [],
   "source": [
    "import math\n",
    "import check\n",
    "\n",
    "#------------------------------------------------------------------------------\n",
    "  \n",
    "def find_median(L, mean):\n",
    "  \n",
    "  if len(L) == 2:\n",
    "    return mean\n",
    "  elif len(L) % 2 == 0:\n",
    "    median = (L[int(len(L)/2) - 1] + L[int((len(L)/2))])/2\n",
    "    return median\n",
    "  else:\n",
    "    median = L[math.ceil(len(L)/2) - 1]\n",
    "    return median\n",
    "\n",
    "#------------------------------------------------------------------------------\n",
    "\n",
    "def sum_of_list(L, mean):\n",
    "  \n",
    "  return sum(list(map(lambda x: (x - mean) ** 2, L)))\n",
    "\n",
    "#------------------------------------------------------------------------------\n",
    "\n",
    "def skewness_calc(L, sigma, mean, median):\n",
    "  \n",
    "  standard_dev = math.sqrt((1/len(L)) * sigma)\n",
    "  skewness = (3 * (mean - median)) / standard_dev\n",
    "  return skewness\n",
    "\n",
    "def skewness(L):\n",
    "  \n",
    "  L.sort()\n",
    "  mean = sum(L)/len(L)\n",
    "  median = find_median(L, mean)\n",
    "  sigma = sum_of_list(L, mean)\n",
    "  return skewness_calc(L, sigma, mean, median)\n",
    "  \n",
    "#------------------------------------------------------------------------------  \n",
    "  \n",
    "##Examples:\n",
    "\n",
    "check.expect(\"Test 1\", skewness([-72772.0, 72772.0]), 0.0)\n",
    "check.within(\"Test 2\", skewness([5.0, 4.0, 3.0, 4.0, 5.0]), 0.801783, 0.00001 )\n",
    "\n",
    "##Tests:\n",
    "N = [30.0, 28.0, 47.0, 3.0, 9.0, 90.0]\n",
    "check.within(\"Large Values\", skewness(N), 0.574950, 0.00001)\n",
    "\n",
    "E = [10.0, 4.0, 12.0, 1.0]\n",
    "check.within(\"Even List\", skewness(E), -0.16903, 0.00001)"
   ]
  }
 ],
 "metadata": {
  "kernelspec": {
   "display_name": "Python 3.10.6 ('minimal_ds')",
   "language": "python",
   "name": "python3"
  },
  "language_info": {
   "codemirror_mode": {
    "name": "ipython",
    "version": 3
   },
   "file_extension": ".py",
   "mimetype": "text/x-python",
   "name": "python",
   "nbconvert_exporter": "python",
   "pygments_lexer": "ipython3",
   "version": "3.10.6"
  },
  "orig_nbformat": 4,
  "vscode": {
   "interpreter": {
    "hash": "9d85ba14efc6b724adb061fe8b7692c126783d01a45f46e588d8bc97bfe30fa8"
   }
  }
 },
 "nbformat": 4,
 "nbformat_minor": 2
}
